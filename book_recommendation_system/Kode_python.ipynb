{
  "cells": [
    {
      "cell_type": "markdown",
      "source": [
        "# Judul : Sistem Rekomendasi Buku\n",
        "Mengembangkan sistem rekomendasi buku menggunakan content-based dan collaborative filtering untuk meningkatkan pengalaman pengguna dalam menemukan buku yang mereka sukai.\n"
      ],
      "metadata": {
        "id": "e3ofOOT3_kek"
      }
    },
    {
      "cell_type": "markdown",
      "source": [
        "## Data Understanding\n",
        "Dataset yang digunakan dalam proyek ini adalah dataset buku yang berisi data penilaian buku oleh pengguna. Dataset ini diambil dari [GitHub](https://raw.githubusercontent.com/zygmuntz/goodbooks-10k/master/ratings.csv). Dataset ini memiliki hampir 6 juta entri yang mencakup informasi tentang user_id, book_id, dan rating.\n",
        "\n"
      ],
      "metadata": {
        "id": "h7JHzf-O_8HR"
      }
    },
    {
      "cell_type": "code",
      "source": [
        "# Library yang diperlukan\n",
        "import pandas as pd\n",
        "import numpy as np\n",
        "import matplotlib.pyplot as plt\n",
        "import seaborn as sns"
      ],
      "metadata": {
        "id": "9Y1XXSHBiba6"
      },
      "execution_count": 1,
      "outputs": []
    },
    {
      "cell_type": "code",
      "source": [
        "# Dataset\n",
        "url = \"https://raw.githubusercontent.com/zygmuntz/goodbooks-10k/master/ratings.csv\"\n",
        "dataset = pd.read_csv(url)\n",
        "dataset.head()"
      ],
      "metadata": {
        "colab": {
          "base_uri": "https://localhost:8080/",
          "height": 206
        },
        "id": "MxCb57eIAdbY",
        "outputId": "54171f5c-ebdd-4aeb-e807-ebd7a70ebec8"
      },
      "execution_count": 2,
      "outputs": [
        {
          "output_type": "execute_result",
          "data": {
            "text/plain": [
              "   user_id  book_id  rating\n",
              "0        1      258       5\n",
              "1        2     4081       4\n",
              "2        2      260       5\n",
              "3        2     9296       5\n",
              "4        2     2318       3"
            ],
            "text/html": [
              "\n",
              "  <div id=\"df-92ccbea5-98e5-460f-8bf9-664b3a6292c7\" class=\"colab-df-container\">\n",
              "    <div>\n",
              "<style scoped>\n",
              "    .dataframe tbody tr th:only-of-type {\n",
              "        vertical-align: middle;\n",
              "    }\n",
              "\n",
              "    .dataframe tbody tr th {\n",
              "        vertical-align: top;\n",
              "    }\n",
              "\n",
              "    .dataframe thead th {\n",
              "        text-align: right;\n",
              "    }\n",
              "</style>\n",
              "<table border=\"1\" class=\"dataframe\">\n",
              "  <thead>\n",
              "    <tr style=\"text-align: right;\">\n",
              "      <th></th>\n",
              "      <th>user_id</th>\n",
              "      <th>book_id</th>\n",
              "      <th>rating</th>\n",
              "    </tr>\n",
              "  </thead>\n",
              "  <tbody>\n",
              "    <tr>\n",
              "      <th>0</th>\n",
              "      <td>1</td>\n",
              "      <td>258</td>\n",
              "      <td>5</td>\n",
              "    </tr>\n",
              "    <tr>\n",
              "      <th>1</th>\n",
              "      <td>2</td>\n",
              "      <td>4081</td>\n",
              "      <td>4</td>\n",
              "    </tr>\n",
              "    <tr>\n",
              "      <th>2</th>\n",
              "      <td>2</td>\n",
              "      <td>260</td>\n",
              "      <td>5</td>\n",
              "    </tr>\n",
              "    <tr>\n",
              "      <th>3</th>\n",
              "      <td>2</td>\n",
              "      <td>9296</td>\n",
              "      <td>5</td>\n",
              "    </tr>\n",
              "    <tr>\n",
              "      <th>4</th>\n",
              "      <td>2</td>\n",
              "      <td>2318</td>\n",
              "      <td>3</td>\n",
              "    </tr>\n",
              "  </tbody>\n",
              "</table>\n",
              "</div>\n",
              "    <div class=\"colab-df-buttons\">\n",
              "\n",
              "  <div class=\"colab-df-container\">\n",
              "    <button class=\"colab-df-convert\" onclick=\"convertToInteractive('df-92ccbea5-98e5-460f-8bf9-664b3a6292c7')\"\n",
              "            title=\"Convert this dataframe to an interactive table.\"\n",
              "            style=\"display:none;\">\n",
              "\n",
              "  <svg xmlns=\"http://www.w3.org/2000/svg\" height=\"24px\" viewBox=\"0 -960 960 960\">\n",
              "    <path d=\"M120-120v-720h720v720H120Zm60-500h600v-160H180v160Zm220 220h160v-160H400v160Zm0 220h160v-160H400v160ZM180-400h160v-160H180v160Zm440 0h160v-160H620v160ZM180-180h160v-160H180v160Zm440 0h160v-160H620v160Z\"/>\n",
              "  </svg>\n",
              "    </button>\n",
              "\n",
              "  <style>\n",
              "    .colab-df-container {\n",
              "      display:flex;\n",
              "      gap: 12px;\n",
              "    }\n",
              "\n",
              "    .colab-df-convert {\n",
              "      background-color: #E8F0FE;\n",
              "      border: none;\n",
              "      border-radius: 50%;\n",
              "      cursor: pointer;\n",
              "      display: none;\n",
              "      fill: #1967D2;\n",
              "      height: 32px;\n",
              "      padding: 0 0 0 0;\n",
              "      width: 32px;\n",
              "    }\n",
              "\n",
              "    .colab-df-convert:hover {\n",
              "      background-color: #E2EBFA;\n",
              "      box-shadow: 0px 1px 2px rgba(60, 64, 67, 0.3), 0px 1px 3px 1px rgba(60, 64, 67, 0.15);\n",
              "      fill: #174EA6;\n",
              "    }\n",
              "\n",
              "    .colab-df-buttons div {\n",
              "      margin-bottom: 4px;\n",
              "    }\n",
              "\n",
              "    [theme=dark] .colab-df-convert {\n",
              "      background-color: #3B4455;\n",
              "      fill: #D2E3FC;\n",
              "    }\n",
              "\n",
              "    [theme=dark] .colab-df-convert:hover {\n",
              "      background-color: #434B5C;\n",
              "      box-shadow: 0px 1px 3px 1px rgba(0, 0, 0, 0.15);\n",
              "      filter: drop-shadow(0px 1px 2px rgba(0, 0, 0, 0.3));\n",
              "      fill: #FFFFFF;\n",
              "    }\n",
              "  </style>\n",
              "\n",
              "    <script>\n",
              "      const buttonEl =\n",
              "        document.querySelector('#df-92ccbea5-98e5-460f-8bf9-664b3a6292c7 button.colab-df-convert');\n",
              "      buttonEl.style.display =\n",
              "        google.colab.kernel.accessAllowed ? 'block' : 'none';\n",
              "\n",
              "      async function convertToInteractive(key) {\n",
              "        const element = document.querySelector('#df-92ccbea5-98e5-460f-8bf9-664b3a6292c7');\n",
              "        const dataTable =\n",
              "          await google.colab.kernel.invokeFunction('convertToInteractive',\n",
              "                                                    [key], {});\n",
              "        if (!dataTable) return;\n",
              "\n",
              "        const docLinkHtml = 'Like what you see? Visit the ' +\n",
              "          '<a target=\"_blank\" href=https://colab.research.google.com/notebooks/data_table.ipynb>data table notebook</a>'\n",
              "          + ' to learn more about interactive tables.';\n",
              "        element.innerHTML = '';\n",
              "        dataTable['output_type'] = 'display_data';\n",
              "        await google.colab.output.renderOutput(dataTable, element);\n",
              "        const docLink = document.createElement('div');\n",
              "        docLink.innerHTML = docLinkHtml;\n",
              "        element.appendChild(docLink);\n",
              "      }\n",
              "    </script>\n",
              "  </div>\n",
              "\n",
              "\n",
              "<div id=\"df-a3674d63-f470-4985-9e83-7f1915598b73\">\n",
              "  <button class=\"colab-df-quickchart\" onclick=\"quickchart('df-a3674d63-f470-4985-9e83-7f1915598b73')\"\n",
              "            title=\"Suggest charts\"\n",
              "            style=\"display:none;\">\n",
              "\n",
              "<svg xmlns=\"http://www.w3.org/2000/svg\" height=\"24px\"viewBox=\"0 0 24 24\"\n",
              "     width=\"24px\">\n",
              "    <g>\n",
              "        <path d=\"M19 3H5c-1.1 0-2 .9-2 2v14c0 1.1.9 2 2 2h14c1.1 0 2-.9 2-2V5c0-1.1-.9-2-2-2zM9 17H7v-7h2v7zm4 0h-2V7h2v10zm4 0h-2v-4h2v4z\"/>\n",
              "    </g>\n",
              "</svg>\n",
              "  </button>\n",
              "\n",
              "<style>\n",
              "  .colab-df-quickchart {\n",
              "      --bg-color: #E8F0FE;\n",
              "      --fill-color: #1967D2;\n",
              "      --hover-bg-color: #E2EBFA;\n",
              "      --hover-fill-color: #174EA6;\n",
              "      --disabled-fill-color: #AAA;\n",
              "      --disabled-bg-color: #DDD;\n",
              "  }\n",
              "\n",
              "  [theme=dark] .colab-df-quickchart {\n",
              "      --bg-color: #3B4455;\n",
              "      --fill-color: #D2E3FC;\n",
              "      --hover-bg-color: #434B5C;\n",
              "      --hover-fill-color: #FFFFFF;\n",
              "      --disabled-bg-color: #3B4455;\n",
              "      --disabled-fill-color: #666;\n",
              "  }\n",
              "\n",
              "  .colab-df-quickchart {\n",
              "    background-color: var(--bg-color);\n",
              "    border: none;\n",
              "    border-radius: 50%;\n",
              "    cursor: pointer;\n",
              "    display: none;\n",
              "    fill: var(--fill-color);\n",
              "    height: 32px;\n",
              "    padding: 0;\n",
              "    width: 32px;\n",
              "  }\n",
              "\n",
              "  .colab-df-quickchart:hover {\n",
              "    background-color: var(--hover-bg-color);\n",
              "    box-shadow: 0 1px 2px rgba(60, 64, 67, 0.3), 0 1px 3px 1px rgba(60, 64, 67, 0.15);\n",
              "    fill: var(--button-hover-fill-color);\n",
              "  }\n",
              "\n",
              "  .colab-df-quickchart-complete:disabled,\n",
              "  .colab-df-quickchart-complete:disabled:hover {\n",
              "    background-color: var(--disabled-bg-color);\n",
              "    fill: var(--disabled-fill-color);\n",
              "    box-shadow: none;\n",
              "  }\n",
              "\n",
              "  .colab-df-spinner {\n",
              "    border: 2px solid var(--fill-color);\n",
              "    border-color: transparent;\n",
              "    border-bottom-color: var(--fill-color);\n",
              "    animation:\n",
              "      spin 1s steps(1) infinite;\n",
              "  }\n",
              "\n",
              "  @keyframes spin {\n",
              "    0% {\n",
              "      border-color: transparent;\n",
              "      border-bottom-color: var(--fill-color);\n",
              "      border-left-color: var(--fill-color);\n",
              "    }\n",
              "    20% {\n",
              "      border-color: transparent;\n",
              "      border-left-color: var(--fill-color);\n",
              "      border-top-color: var(--fill-color);\n",
              "    }\n",
              "    30% {\n",
              "      border-color: transparent;\n",
              "      border-left-color: var(--fill-color);\n",
              "      border-top-color: var(--fill-color);\n",
              "      border-right-color: var(--fill-color);\n",
              "    }\n",
              "    40% {\n",
              "      border-color: transparent;\n",
              "      border-right-color: var(--fill-color);\n",
              "      border-top-color: var(--fill-color);\n",
              "    }\n",
              "    60% {\n",
              "      border-color: transparent;\n",
              "      border-right-color: var(--fill-color);\n",
              "    }\n",
              "    80% {\n",
              "      border-color: transparent;\n",
              "      border-right-color: var(--fill-color);\n",
              "      border-bottom-color: var(--fill-color);\n",
              "    }\n",
              "    90% {\n",
              "      border-color: transparent;\n",
              "      border-bottom-color: var(--fill-color);\n",
              "    }\n",
              "  }\n",
              "</style>\n",
              "\n",
              "  <script>\n",
              "    async function quickchart(key) {\n",
              "      const quickchartButtonEl =\n",
              "        document.querySelector('#' + key + ' button');\n",
              "      quickchartButtonEl.disabled = true;  // To prevent multiple clicks.\n",
              "      quickchartButtonEl.classList.add('colab-df-spinner');\n",
              "      try {\n",
              "        const charts = await google.colab.kernel.invokeFunction(\n",
              "            'suggestCharts', [key], {});\n",
              "      } catch (error) {\n",
              "        console.error('Error during call to suggestCharts:', error);\n",
              "      }\n",
              "      quickchartButtonEl.classList.remove('colab-df-spinner');\n",
              "      quickchartButtonEl.classList.add('colab-df-quickchart-complete');\n",
              "    }\n",
              "    (() => {\n",
              "      let quickchartButtonEl =\n",
              "        document.querySelector('#df-a3674d63-f470-4985-9e83-7f1915598b73 button');\n",
              "      quickchartButtonEl.style.display =\n",
              "        google.colab.kernel.accessAllowed ? 'block' : 'none';\n",
              "    })();\n",
              "  </script>\n",
              "</div>\n",
              "\n",
              "    </div>\n",
              "  </div>\n"
            ],
            "application/vnd.google.colaboratory.intrinsic+json": {
              "type": "dataframe",
              "variable_name": "dataset"
            }
          },
          "metadata": {},
          "execution_count": 2
        }
      ]
    },
    {
      "cell_type": "code",
      "source": [
        "print(dataset.isnull().sum())"
      ],
      "metadata": {
        "colab": {
          "base_uri": "https://localhost:8080/"
        },
        "id": "D-k97pFhKOHC",
        "outputId": "e9d0816f-d56e-418c-feaf-8e6a22748719"
      },
      "execution_count": 3,
      "outputs": [
        {
          "output_type": "stream",
          "name": "stdout",
          "text": [
            "user_id    0\n",
            "book_id    0\n",
            "rating     0\n",
            "dtype: int64\n"
          ]
        }
      ]
    },
    {
      "cell_type": "code",
      "source": [
        "dataset.info()"
      ],
      "metadata": {
        "colab": {
          "base_uri": "https://localhost:8080/"
        },
        "id": "vfub_JPCAuXl",
        "outputId": "b885271a-f985-46d0-9ff0-cebb31f038c1"
      },
      "execution_count": null,
      "outputs": [
        {
          "output_type": "stream",
          "name": "stdout",
          "text": [
            "<class 'pandas.core.frame.DataFrame'>\n",
            "RangeIndex: 5976479 entries, 0 to 5976478\n",
            "Data columns (total 3 columns):\n",
            " #   Column   Dtype\n",
            "---  ------   -----\n",
            " 0   user_id  int64\n",
            " 1   book_id  int64\n",
            " 2   rating   int64\n",
            "dtypes: int64(3)\n",
            "memory usage: 136.8 MB\n"
          ]
        }
      ]
    },
    {
      "cell_type": "code",
      "source": [
        "len(dataset)"
      ],
      "metadata": {
        "colab": {
          "base_uri": "https://localhost:8080/"
        },
        "id": "2hyIAg_ugNFd",
        "outputId": "93e8abb2-07cd-4665-c3c3-25f53dba24bb"
      },
      "execution_count": null,
      "outputs": [
        {
          "output_type": "execute_result",
          "data": {
            "text/plain": [
              "5976479"
            ]
          },
          "metadata": {},
          "execution_count": 15
        }
      ]
    },
    {
      "cell_type": "code",
      "source": [
        "print(dataset.describe())\n",
        "print(dataset.duplicated())"
      ],
      "metadata": {
        "colab": {
          "base_uri": "https://localhost:8080/"
        },
        "id": "gSv7e3wwBaje",
        "outputId": "32edfc8c-3112-4b47-9548-1a072b9b92be"
      },
      "execution_count": null,
      "outputs": [
        {
          "output_type": "stream",
          "name": "stdout",
          "text": [
            "            user_id       book_id        rating\n",
            "count  5.976479e+06  5.976479e+06  5.976479e+06\n",
            "mean   2.622446e+04  2.006477e+03  3.919866e+00\n",
            "std    1.541323e+04  2.468499e+03  9.910868e-01\n",
            "min    1.000000e+00  1.000000e+00  1.000000e+00\n",
            "25%    1.281300e+04  1.980000e+02  3.000000e+00\n",
            "50%    2.593800e+04  8.850000e+02  4.000000e+00\n",
            "75%    3.950900e+04  2.973000e+03  5.000000e+00\n",
            "max    5.342400e+04  1.000000e+04  5.000000e+00\n",
            "0          False\n",
            "1          False\n",
            "2          False\n",
            "3          False\n",
            "4          False\n",
            "           ...  \n",
            "5976474    False\n",
            "5976475    False\n",
            "5976476    False\n",
            "5976477    False\n",
            "5976478    False\n",
            "Length: 5976479, dtype: bool\n"
          ]
        }
      ]
    },
    {
      "cell_type": "markdown",
      "source": [
        "Dataset ini berisi 5.976.479 entri, dengan 3 kolom, yaitu:\n",
        "* user_id: tipe data int64 (numerik), berisi ID pengguna yang memberikan rating.\n",
        "* book_id: tipe data int64 (numerik), berisi ID buku yang di-rating.\n",
        "* rating: tipe data int64 (numerik), berisi penilaian yang diberikan oleh pengguna (skala 1-5).\n",
        "\n",
        "Ukuran dataset ini cukup besar, dengan memori yang digunakan sebesar 136.8 MB.\n",
        "\n",
        "terlihat dari hasil dekripsi statistik pada dataset yaitu:\n",
        "* count: Semua kolom memiliki 5.976.479 entri yang valid.\n",
        "* mean (rata-rata):\n",
        " - user_id: Rata-rata ID pengguna adalah 2.622446e+04.\n",
        " - book_id: Rata-rata ID buku adalah 2.006477e+03.\n",
        " - rating: Rata-rata rating yang diberikan adalah 3.92.\n",
        "* std (standar deviasi):\n",
        " - user_id: 1.541332e+04, menunjukkan variasi yang cukup besar pada ID pengguna.\n",
        " - book_id: 2.468499e+03, menunjukkan bahwa ada beragam buku yang di-rating.\n",
        " - rating: 9.910866e-01, menunjukkan sebagian besar pengguna memberikan penilaian yang cukup konsisten (rating antara 1-5).\n",
        "* min (nilai minimum):\n",
        " - user_id, book_id, rating: Semua nilai minimum adalah 1.\n",
        "* 25%, 50%, 75% (kuartil):\n",
        "Kuartil ini menunjukkan distribusi nilai user_id, book_id, dan rating di dataset. Contohnya, 50% dari rating berada di angka 4 atau lebih rendah, yang menunjukkan kecenderungan positif.\n",
        "* max (nilai maksimum):\n",
        " - user_id: 53420, menunjukkan ID pengguna tertinggi.\n",
        " - book_id: 10000, menunjukkan ID buku tertinggi.\n",
        " - rating: 5, yang merupakan batas atas rating.\n",
        "\n",
        " Hasil **dataset.duplicated()** menunjukkan apakah ada duplikasi pada setiap baris dataset. Pada output ini, hasil ditunjukkan untuk setiap indeks (dari 0 hingga akhir), di mana semua hasilnya adalah False, yang berarti tidak ada data duplikat dalam dataset. Ini penting untuk memastikan kualitas data, karena data duplikat dapat menyebabkan bias dalam pelatihan model."
      ],
      "metadata": {
        "id": "n05Chw63A3tM"
      }
    },
    {
      "cell_type": "code",
      "source": [
        "# Exploratory Data Analysis\n",
        "# Tahapan ini untuk melihat distribusi dari rating buku\n",
        "plt.figure(figsize=(10, 6))\n",
        "sns.countplot(x='rating', data=dataset)\n",
        "plt.title('Distribusi Rating Buku')\n",
        "plt.xlabel('Rating')\n",
        "plt.ylabel('Jumlah')\n",
        "plt.show()"
      ],
      "metadata": {
        "colab": {
          "base_uri": "https://localhost:8080/",
          "height": 430
        },
        "id": "JSYqU0FhEw7w",
        "outputId": "845a89c2-6c78-43a6-b5e4-aa48d5ed16ff"
      },
      "execution_count": null,
      "outputs": [
        {
          "output_type": "display_data",
          "data": {
            "text/plain": [
              "<Figure size 1000x600 with 1 Axes>"
            ],
            "image/png": "[encoded data removed]"
          },
          "metadata": {}
        }
      ]
    },
    {
      "cell_type": "markdown",
      "source": [
        "Terlihat pada gambar bahwa secara general bahwa rating buku yang ada ada di angka 4 dan 5, sehingga bisa disimpulkan bahwa buku-buku yang tersedia dapat memuaskan pelanggan."
      ],
      "metadata": {
        "id": "siI59lFQFMLO"
      }
    },
    {
      "cell_type": "markdown",
      "source": [
        "## Data Preparation\n",
        "pada tahap ini dilakukan pengecekan missing data dan membagi data menjadi data uji dan data latih"
      ],
      "metadata": {
        "id": "mu_2AiAwFyCn"
      }
    },
    {
      "cell_type": "code",
      "source": [
        "# Menangani missing values\n",
        "dataset.dropna(inplace=True)\n",
        "\n",
        "# Membuat data train dan test\n",
        "from sklearn.model_selection import train_test_split\n",
        "train_data, test_data = train_test_split(dataset, test_size=0.2, random_state=42)"
      ],
      "metadata": {
        "id": "KIMKFIzxFi1K"
      },
      "execution_count": null,
      "outputs": []
    },
    {
      "cell_type": "markdown",
      "source": [
        "Pada tahap ini, dilakukan penanganan terhadap missing values dalam dataset dengan menggunakan fungsi dropna(). Metode ini menghapus semua baris yang memiliki nilai kosong (NA) atau hilang. Dengan memberikan parameter inplace=True, perubahan ini diterapkan langsung ke dataset tanpa perlu membuat salinan baru.\n",
        "\n",
        "Selanjutnya, dataset dibagi menjadi dua bagian, yaitu data latih (train_data) dan data uji (test_data) menggunakan fungsi train_test_split dari pustaka sklearn. Pembagian ini dilakukan dengan porsi 80% untuk data latih dan 20% untuk data uji, yang diatur dengan parameter test_size=0.2.\n",
        "\n",
        "Parameter random_state=42 digunakan untuk memastikan pembagian data bersifat deterministik, sehingga hasil yang sama akan diperoleh setiap kali kode ini dijalankan."
      ],
      "metadata": {
        "id": "KhpSdEUEGMlJ"
      }
    },
    {
      "cell_type": "markdown",
      "source": [
        "## Modeling\n",
        "pada tahap ini, model yang digunakan adalah **collaborative filtering**\n"
      ],
      "metadata": {
        "id": "B3GN2EtmPoec"
      }
    },
    {
      "cell_type": "code",
      "source": [
        "# Tahap 4: Modeling\n",
        "# Menggunakan user-item rating matrix untuk collaborative filtering\n",
        "# Collaborative Filtering\n",
        "! pip install surprise\n",
        "from surprise import SVD\n",
        "from surprise import Dataset\n",
        "from surprise import Reader\n",
        "from surprise.model_selection import cross_validate\n",
        "\n",
        "reader = Reader(rating_scale=(0, 5))\n",
        "data = Dataset.load_from_df(dataset[['user_id', 'book_id', 'rating']], reader)\n",
        "\n",
        "# Model SVD\n",
        "# Menggunakan algoritma Singular Value Decomposition (SVD) untuk collaborative filtering.\n",
        "model_svd = SVD()\n",
        "cross_validate(model_svd, data, measures=['RMSE', 'MAE'], cv=5, verbose=True)\n",
        "\n",
        "trainset = data.build_full_trainset()\n",
        "model_svd.fit(trainset)"
      ],
      "metadata": {
        "colab": {
          "base_uri": "https://localhost:8080/"
        },
        "id": "CcLb4OyPQumK",
        "outputId": "0841ecd0-4a2f-4f1f-e930-cc24b640ff0e"
      },
      "execution_count": null,
      "outputs": [
        {
          "output_type": "stream",
          "name": "stdout",
          "text": [
            "Collecting surprise\n",
            "  Downloading surprise-0.1-py2.py3-none-any.whl.metadata (327 bytes)\n",
            "Collecting scikit-surprise (from surprise)\n",
            "  Downloading scikit_surprise-1.1.4.tar.gz (154 kB)\n",
            "\u001b[?25l     \u001b[90m━━━━━━━━━━━━━━━━━━━━━━━━━━━━━━━━━━━━━━━━\u001b[0m \u001b[32m0.0/154.4 kB\u001b[0m \u001b[31m?\u001b[0m eta \u001b[36m-:--:--\u001b[0m\r\u001b[2K     \u001b[90m━━━━━━━━━━━━━━━━━━━━━━━━━━━━━━━━━━━━━━━━\u001b[0m \u001b[32m154.4/154.4 kB\u001b[0m \u001b[31m9.0 MB/s\u001b[0m eta \u001b[36m0:00:00\u001b[0m\n",
            "\u001b[?25h  Installing build dependencies ... \u001b[?25l\u001b[?25hdone\n",
            "  Getting requirements to build wheel ... \u001b[?25l\u001b[?25hdone\n",
            "  Preparing metadata (pyproject.toml) ... \u001b[?25l\u001b[?25hdone\n",
            "Requirement already satisfied: joblib>=1.2.0 in /usr/local/lib/python3.10/dist-packages (from scikit-surprise->surprise) (1.4.2)\n",
            "Requirement already satisfied: numpy>=1.19.5 in /usr/local/lib/python3.10/dist-packages (from scikit-surprise->surprise) (1.26.4)\n",
            "Requirement already satisfied: scipy>=1.6.0 in /usr/local/lib/python3.10/dist-packages (from scikit-surprise->surprise) (1.13.1)\n",
            "Downloading surprise-0.1-py2.py3-none-any.whl (1.8 kB)\n",
            "Building wheels for collected packages: scikit-surprise\n",
            "  Building wheel for scikit-surprise (pyproject.toml) ... \u001b[?25l\u001b[?25hdone\n",
            "  Created wheel for scikit-surprise: filename=scikit_surprise-1.1.4-cp310-cp310-linux_x86_64.whl size=2357283 sha256=e319c205f9d421897bebc474e251abc0d4d3370ac675d046e39ac92e51adab94\n",
            "  Stored in directory: /root/.cache/pip/wheels/4b/3f/df/6acbf0a40397d9bf3ff97f582cc22fb9ce66adde75bc71fd54\n",
            "Successfully built scikit-surprise\n",
            "Installing collected packages: scikit-surprise, surprise\n",
            "Successfully installed scikit-surprise-1.1.4 surprise-0.1\n",
            "Evaluating RMSE, MAE of algorithm SVD on 5 split(s).\n",
            "\n",
            "                  Fold 1  Fold 2  Fold 3  Fold 4  Fold 5  Mean    Std     \n",
            "RMSE (testset)    0.8310  0.8302  0.8303  0.8303  0.8306  0.8305  0.0003  \n",
            "MAE (testset)     0.6412  0.6409  0.6413  0.6409  0.6414  0.6412  0.0002  \n",
            "Fit time          97.74   103.85  102.50  104.29  100.16  101.71  2.45    \n",
            "Test time         21.06   18.43   18.87   16.48   19.77   18.92   1.52    \n"
          ]
        },
        {
          "output_type": "execute_result",
          "data": {
            "text/plain": [
              "<surprise.prediction_algorithms.matrix_factorization.SVD at 0x7b1a08eb1a50>"
            ]
          },
          "metadata": {},
          "execution_count": 12
        }
      ]
    },
    {
      "cell_type": "markdown",
      "source": [
        "Pustaka yang digunakan adalah Surprise, yang dirancang khusus untuk rekomendasi berbasis user-item rating matrix.\n",
        "\n",
        "Dataset yang digunakan memiliki informasi pengguna (user_id), buku (book_id), dan rating (rating). Fungsi Reader() digunakan untuk menentukan skala rating yang digunakan (yaitu antara 0 hingga 5). Dataset kemudian dimuat menggunakan Dataset.load_from_df(), yang mengubah data menjadi format yang sesuai untuk Surprise.\n",
        "\n",
        "- Singular Value Decomposition (SVD): Algoritma yang digunakan adalah SVD, yang merupakan salah satu algoritma yang populer dalam collaborative filtering. SVD digunakan untuk memfaktorkan user-item matrix guna menemukan pola-pola yang tersembunyi dalam data penilaian pengguna.\n",
        "- Cross-validation: Model dievaluasi menggunakan cross-validation (cv=5) dengan metrik RMSE (Root Mean Squared Error) dan MAE (Mean Absolute Error) untuk menilai performa model. Cross-validation dilakukan sebanyak 5 kali untuk mendapatkan nilai evaluasi yang lebih akurat dan general.\n",
        "\n",
        "Hasil evaluasi dari model menggunakan cross-validation:\n",
        "\n",
        "**RMSE (Root Mean Squared Error)**: Nilai RMSE untuk setiap fold adalah sebagai berikut:\n",
        "- Fold 1: 0.8310\n",
        "- Fold 2: 0.8302\n",
        "- Fold 3: 0.8308\n",
        "- Fold 4: 0.8303\n",
        "- Fold 5: 0.8308\n",
        "\n",
        "Rata-rata (Mean): 0.8306\n",
        "\n",
        "RMSE adalah metrik yang digunakan untuk mengukur seberapa besar perbedaan antara nilai yang diprediksi oleh model dengan nilai aktualnya. Semakin kecil nilai RMSE, semakin baik model dalam memprediksi rating. Nilai rata-rata RMSE sekitar 0.83 menunjukkan bahwa model memiliki performa yang cukup baik, meskipun masih terdapat beberapa kesalahan dalam prediksi.\n",
        "\n",
        "**MAE (Mean Absolute Error)**: Nilai MAE untuk setiap fold adalah sebagai berikut:\n",
        "- Fold 1: 0.6412\n",
        "- Fold 2: 0.6409\n",
        "- Fold 3: 0.6414\n",
        "- Fold 4: 0.6411\n",
        "- Fold 5: 0.6413\n",
        "\n",
        "Rata-rata (Mean): 0.6412\n",
        "\n",
        "MAE mengukur rata-rata kesalahan absolut antara prediksi dan nilai aktual. Nilai MAE yang rendah (sekitar 0.64) menunjukkan bahwa rata-rata perbedaan antara prediksi model dan nilai aktual adalah sekitar 0.64 pada skala rating 1-5, yang menunjukkan bahwa model memiliki kemampuan yang cukup akurat dalam memprediksi rating.\n",
        "\n",
        "**Waktu Pelatihan dan Pengujian**:\n",
        "- Fitting Time: Waktu yang diperlukan untuk melatih model dalam setiap fold berkisar antara 97 hingga 103 detik, dengan rata-rata 102.5 detik.\n",
        "- Test Time: Waktu yang diperlukan untuk melakukan evaluasi pada setiap fold berkisar antara 18 hingga 21 detik."
      ],
      "metadata": {
        "id": "Z21J0wVRVQqF"
      }
    },
    {
      "cell_type": "markdown",
      "source": [
        "## Evaluation\n",
        "Menggunakan metrik Precision dan Recall untuk mengevaluasi kualitas rekomendasi"
      ],
      "metadata": {
        "id": "h9698A_3WdwW"
      }
    },
    {
      "cell_type": "code",
      "source": [
        "def precision_recall_at_k(predictions, k=10, threshold=3.5):\n",
        "    from collections import defaultdict\n",
        "\n",
        "    user_est_true = defaultdict(list)\n",
        "    for uid, _, true_r, est, _ in predictions:\n",
        "        user_est_true[uid].append((est, true_r))\n",
        "\n",
        "    precisions = dict()\n",
        "    recalls = dict()\n",
        "    for uid, user_ratings in user_est_true.items():\n",
        "        user_ratings.sort(key=lambda x: x[0], reverse=True)\n",
        "        n_rel = sum((true_r >= threshold) for (_, true_r) in user_ratings)\n",
        "        n_rec_k = sum((est >= threshold) for (est, _) in user_ratings[:k])\n",
        "        n_rel_and_rec_k = sum(((true_r >= threshold) and (est >= threshold))\n",
        "                              for (est, true_r) in user_ratings[:k])\n",
        "        precisions[uid] = n_rel_and_rec_k / n_rec_k if n_rec_k != 0 else 1\n",
        "        recalls[uid] = n_rel_and_rec_k / n_rel if n_rel != 0 else 1\n",
        "\n",
        "    precision_avg = sum(precisions.values()) / len(precisions)\n",
        "    recall_avg = sum(recalls.values()) / len(recalls)\n",
        "    return precision_avg, recall_avg\n",
        "\n",
        "predictions = model_svd.test(trainset.build_testset())\n",
        "precision, recall = precision_recall_at_k(predictions)\n",
        "print(f\"Precision: {precision}, Recall: {recall}\")"
      ],
      "metadata": {
        "colab": {
          "base_uri": "https://localhost:8080/"
        },
        "id": "I7e3zBTiWniU",
        "outputId": "e44b62f6-9ac5-43bb-b324-5e7794fd0a00"
      },
      "execution_count": null,
      "outputs": [
        {
          "output_type": "stream",
          "name": "stdout",
          "text": [
            "Precision: 0.9832133810023801, Recall: 0.14348946008708988\n"
          ]
        }
      ]
    },
    {
      "cell_type": "markdown",
      "source": [
        "Fungsi precision_recall_at_k digunakan untuk menghitung Precision dan Recall pada Top-k rekomendasi, dengan parameter threshold untuk menentukan nilai rating yang dianggap relevan. Di sini, threshold=3.5 artinya hanya rating yang lebih besar atau sama dengan 3.5 yang dianggap relevan.\n",
        "\n",
        "Membuat dictionary user_est_true untuk menyimpan semua pasangan nilai prediksi (est) dan nilai aktual (true_r) untuk setiap pengguna (uid). Hal ini memungkinkan analisis berdasarkan pengguna untuk menghitung precision dan recall.\n",
        "\n",
        "- precisions dan recalls adalah dictionary untuk menyimpan nilai precision dan recall masing-masing pengguna (uid).\n",
        "- n_rel: Menghitung jumlah item relevan (rating aktual lebih besar atau sama dengan threshold).\n",
        "- n_rec_k: Menghitung jumlah item yang direkomendasikan dalam Top-k dengan prediksi lebih besar atau sama dengan threshold.\n",
        "- n_rel_and_rec_k: Menghitung jumlah item yang direkomendasikan dalam Top-k yang juga relevan (baik prediksi maupun rating aktual memenuhi kriteria threshold).\n",
        "- Precision dan recall dihitung untuk setiap pengguna dan disimpan di dictionary precisions dan recalls.\n",
        "\n",
        "Menghitung precision rata-rata dan recall rata-rata dari semua pengguna dengan mengambil rata-rata nilai yang ada di dictionary precisions dan recalls.\n",
        "\n",
        "Fungsi precision_recall_at_k(predictions) digunakan untuk menghitung nilai Precision dan Recall dari hasil prediksi tersebut.\n",
        "\n",
        "- **Precision**: 0.9832133810023801\n",
        "\n",
        "Nilai precision menunjukkan bahwa dari semua item yang direkomendasikan, 98.3% adalah relevan. Ini adalah angka yang sangat tinggi, menunjukkan bahwa sebagian besar rekomendasi yang diberikan oleh model adalah relevan dengan prefelensi pengguna.\n",
        "\n",
        "- **Recall**: 0.14348946008708988\n",
        "\n",
        "Nilai recall menunjukkan bahwa dari semua item relevan yang ada, hanya 14.3% yang berhasil direkomendasikan. Nilai recall yang rendah ini mengindikasikan bahwa meskipun model sangat akurat dalam merekomendasikan item yang relevan, banyak item relevan yang tidak masuk ke dalam daftar rekomendasi Top-10."
      ],
      "metadata": {
        "id": "mu2IX9QkXPwk"
      }
    },
    {
      "cell_type": "markdown",
      "source": [
        "## Tambahan : Top N Recommendation\n",
        "dimana dalam kode berikut dicoba untuk 10 rekomendasi buku untuk 5 pengguna"
      ],
      "metadata": {
        "id": "LrqRsYd2ecQG"
      }
    },
    {
      "cell_type": "code",
      "source": [
        "# Menghitung Top-N recommendation\n",
        "# Bagian ini menunjukkan cara menghasilkan rekomendasi Top-N bagi setiap pengguna.\n",
        "def get_top_n_recommendations(predictions, n=10):\n",
        "    from collections import defaultdict\n",
        "    top_n = defaultdict(list)\n",
        "    for uid, iid, true_r, est, _ in predictions:\n",
        "        top_n[uid].append((iid, est))\n",
        "\n",
        "    # Mengurutkan prediksi berdasarkan nilai prediksi tertinggi dan memilih Top-N item untuk setiap pengguna\n",
        "    for uid, user_ratings in top_n.items():\n",
        "        user_ratings.sort(key=lambda x: x[1], reverse=True)\n",
        "        top_n[uid] = user_ratings[:n]\n",
        "    return top_n\n",
        "\n",
        "# Menghasilkan Top-N rekomendasi untuk setiap pengguna\n",
        "top_n_recommendations = get_top_n_recommendations(predictions, n=10)\n",
        "\n",
        "# Menampilkan rekomendasi untuk beberapa pengguna\n",
        "for uid, user_ratings in list(top_n_recommendations.items())[:5]:\n",
        "    print(f\"User ID: {uid}\")\n",
        "    for book_id, rating in user_ratings:\n",
        "        print(f\"  Book ID: {book_id}, Predicted Rating: {rating}\")"
      ],
      "metadata": {
        "colab": {
          "base_uri": "https://localhost:8080/"
        },
        "id": "2iUlQK3neN-b",
        "outputId": "26f37303-7e93-4f28-a913-a5a5d7cfdec0"
      },
      "execution_count": null,
      "outputs": [
        {
          "output_type": "stream",
          "name": "stdout",
          "text": [
            "User ID: 1\n",
            "  Book ID: 2535, Predicted Rating: 4.357311357717685\n",
            "  Book ID: 128, Predicted Rating: 4.2668734646880715\n",
            "  Book ID: 1041, Predicted Rating: 4.253577557321938\n",
            "  Book ID: 3294, Predicted Rating: 4.206157165242955\n",
            "  Book ID: 4, Predicted Rating: 4.189949908351055\n",
            "  Book ID: 142, Predicted Rating: 4.143869926737067\n",
            "  Book ID: 1644, Predicted Rating: 4.1356655823905175\n",
            "  Book ID: 225, Predicted Rating: 4.098151932547832\n",
            "  Book ID: 219, Predicted Rating: 4.067719270577834\n",
            "  Book ID: 131, Predicted Rating: 4.066906933601887\n",
            "User ID: 2\n",
            "  Book ID: 3753, Predicted Rating: 5\n",
            "  Book ID: 18, Predicted Rating: 5\n",
            "  Book ID: 80, Predicted Rating: 4.974955070793735\n",
            "  Book ID: 25, Predicted Rating: 4.920447159664996\n",
            "  Book ID: 131, Predicted Rating: 4.903577514506692\n",
            "  Book ID: 27, Predicted Rating: 4.874523493813794\n",
            "  Book ID: 24, Predicted Rating: 4.869355385982139\n",
            "  Book ID: 2, Predicted Rating: 4.815267479700096\n",
            "  Book ID: 2139, Predicted Rating: 4.813758696318672\n",
            "  Book ID: 23, Predicted Rating: 4.80838883453155\n",
            "User ID: 4\n",
            "  Book ID: 18, Predicted Rating: 4.706412399571404\n",
            "  Book ID: 2, Predicted Rating: 4.705677158052995\n",
            "  Book ID: 25, Predicted Rating: 4.701064491904397\n",
            "  Book ID: 27, Predicted Rating: 4.677188801388613\n",
            "  Book ID: 24, Predicted Rating: 4.667818917231067\n",
            "  Book ID: 23, Predicted Rating: 4.648393960745362\n",
            "  Book ID: 21, Predicted Rating: 4.565523990725049\n",
            "  Book ID: 50, Predicted Rating: 4.557737671088189\n",
            "  Book ID: 4, Predicted Rating: 4.5004332982165565\n",
            "  Book ID: 540, Predicted Rating: 4.390861650812834\n",
            "User ID: 6\n",
            "  Book ID: 1265, Predicted Rating: 5\n",
            "  Book ID: 4706, Predicted Rating: 4.98302495653169\n",
            "  Book ID: 490, Predicted Rating: 4.953171076634755\n",
            "  Book ID: 236, Predicted Rating: 4.911740527944209\n",
            "  Book ID: 94, Predicted Rating: 4.86446729895992\n",
            "  Book ID: 374, Predicted Rating: 4.8625397692388015\n",
            "  Book ID: 115, Predicted Rating: 4.819581766692476\n",
            "  Book ID: 2357, Predicted Rating: 4.738521300108055\n",
            "  Book ID: 65, Predicted Rating: 4.709093635626449\n",
            "  Book ID: 4050, Predicted Rating: 4.675380158391579\n",
            "User ID: 8\n",
            "  Book ID: 977, Predicted Rating: 4.623665499935106\n",
            "  Book ID: 13, Predicted Rating: 4.56280050763842\n",
            "  Book ID: 592, Predicted Rating: 4.4978751170633275\n",
            "  Book ID: 4622, Predicted Rating: 4.4399797367935765\n",
            "  Book ID: 1364, Predicted Rating: 4.402972042043469\n",
            "  Book ID: 177, Predicted Rating: 4.38505031823055\n",
            "  Book ID: 14, Predicted Rating: 4.375646881480701\n",
            "  Book ID: 485, Predicted Rating: 4.326722408544988\n",
            "  Book ID: 1214, Predicted Rating: 4.321853435001576\n",
            "  Book ID: 3020, Predicted Rating: 4.319130459203466\n"
          ]
        }
      ]
    },
    {
      "cell_type": "markdown",
      "source": [
        "Terlihat bahwa rekomendasi buku untuk setiap pengguna berdasarkan ratingnya yang hampir sama."
      ],
      "metadata": {
        "id": "kXm_SIifkfIi"
      }
    }
  ],
  "metadata": {
    "colab": {
      "provenance": []
    },
    "kernelspec": {
      "display_name": "Python 3",
      "name": "python3"
    },
    "language_info": {
      "name": "python"
    }
  },
  "nbformat": 4,
  "nbformat_minor": 0
}
